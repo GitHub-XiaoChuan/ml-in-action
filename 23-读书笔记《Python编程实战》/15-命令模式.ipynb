{
 "cells": [
  {
   "cell_type": "markdown",
   "metadata": {},
   "source": [
    "# 命令模式\n",
    "\n"
   ]
  },
  {
   "cell_type": "code",
   "execution_count": 3,
   "metadata": {},
   "outputs": [],
   "source": [
    "import sys\n",
    "import collections\n",
    "def callable(function):\n",
    "    return isinstance(function, collections.Callable)\n",
    "\n",
    "\n",
    "class Command:\n",
    "\n",
    "    def __init__(self, do, undo, description=\"\"):\n",
    "        assert callable(do) and callable(undo)\n",
    "        self.do = do\n",
    "        self.undo = undo\n",
    "        self.description = description\n",
    "\n",
    "\n",
    "    def __call__(self):\n",
    "        self.do()\n",
    "\n",
    "\n",
    "class Macro:\n",
    "\n",
    "    def __init__(self, description=\"\"):\n",
    "        self.description = description\n",
    "        self.__commands = []\n",
    "\n",
    "\n",
    "    def add(self, command):\n",
    "        if not isinstance(command, Command):\n",
    "            raise TypeError(\"Expected object of type Command, got {}\".\n",
    "                    format(type(command).__name__))\n",
    "        self.__commands.append(command)\n",
    "\n",
    "\n",
    "    def __call__(self):\n",
    "        for command in self.__commands:\n",
    "            command()\n",
    "\n",
    "    do = __call__\n",
    "\n",
    "\n",
    "    def undo(self):\n",
    "        for command in reversed(self.__commands):\n",
    "            command.undo()\n"
   ]
  },
  {
   "cell_type": "code",
   "execution_count": null,
   "metadata": {},
   "outputs": [],
   "source": []
  }
 ],
 "metadata": {
  "kernelspec": {
   "display_name": "Python 3",
   "language": "python",
   "name": "python3"
  },
  "language_info": {
   "codemirror_mode": {
    "name": "ipython",
    "version": 3
   },
   "file_extension": ".py",
   "mimetype": "text/x-python",
   "name": "python",
   "nbconvert_exporter": "python",
   "pygments_lexer": "ipython3",
   "version": "3.6.6"
  }
 },
 "nbformat": 4,
 "nbformat_minor": 2
}
