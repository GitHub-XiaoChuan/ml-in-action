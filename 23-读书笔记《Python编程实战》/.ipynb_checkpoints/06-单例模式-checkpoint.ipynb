{
 "cells": [
  {
   "cell_type": "code",
   "execution_count": 9,
   "metadata": {},
   "outputs": [
    {
     "name": "stdout",
     "output_type": "stream",
     "text": [
      "read csv\n",
      "[['a', '1'], ['b', '2']]\n",
      "in len()\n",
      "[['a', '1'], ['b', '2']]\n",
      "read csv\n",
      "[['a', '1'], ['b', '2']]\n"
     ]
    }
   ],
   "source": [
    "import csv\n",
    "\n",
    "def get(refresh=False):\n",
    "    if refresh:\n",
    "        get.rates = []\n",
    "    if len(get.rates) > 0:\n",
    "        print('in len()')\n",
    "        return get.rates\n",
    "    with open('test.csv') as f:\n",
    "        print('read csv')\n",
    "        reader = csv.reader(f)\n",
    "        get.rates = list(reader)\n",
    "    \n",
    "    return get.rates\n",
    "get.rates = []\n",
    "\n",
    "# 第一次加载\n",
    "print(get())\n",
    "# 第二次加载使用缓存\n",
    "print(get())\n",
    "# 刷新\n",
    "print(get(True))\n",
    "    \n",
    "        "
   ]
  },
  {
   "cell_type": "code",
   "execution_count": null,
   "metadata": {},
   "outputs": [],
   "source": []
  }
 ],
 "metadata": {
  "kernelspec": {
   "display_name": "Python 3",
   "language": "python",
   "name": "python3"
  },
  "language_info": {
   "codemirror_mode": {
    "name": "ipython",
    "version": 3
   },
   "file_extension": ".py",
   "mimetype": "text/x-python",
   "name": "python",
   "nbconvert_exporter": "python",
   "pygments_lexer": "ipython3",
   "version": "3.6.6"
  }
 },
 "nbformat": 4,
 "nbformat_minor": 2
}
