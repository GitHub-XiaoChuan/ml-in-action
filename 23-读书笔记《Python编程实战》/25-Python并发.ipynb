{
 "cells": [
  {
   "cell_type": "markdown",
   "metadata": {},
   "source": [
    "\n",
    "并发编程的需求：\n",
    "\n",
    "- Java语言的普及\n",
    "- 拥有多核CPU计算机普及\n",
    "- 大部分语言支持并发\n",
    "\n",
    "标准库支持并发：\n",
    "\n",
    "- 如何访问 共享数据，通过共享内存shared memory，还是进程间通信Inter-Process Communication IPC。\n",
    "- 基于线程的并发，访问共享内存，使用锁机制\n",
    "- 基于进程的并发，IPC访问共享数据\n",
    "\n",
    "全局解释器锁，Global Interpreter Lock, GIL，同一时间只能支持一个线程。\n",
    "\n",
    "并发的级别：\n",
    "\n",
    "- 低级并发，使用原子操作\n",
    "- 中级并发，使用锁，如`threading.Semaphore`, `threading.Lock`, `multiprocessing.Lock`\n",
    "- 高级并发，`concurrent.futures`, `queue.Queue`, `multiprocessing`\n",
    "\n",
    "避免加锁等待：\n",
    "\n",
    "- 使用支持并发的容器，`multiprocessing.JoinableQueue`以及`multiprocessing.Queue`\n",
    "- 使用不可变的数据，`multiprocessing.Value`以及`multiprocessing.Array`"
   ]
  },
  {
   "cell_type": "markdown",
   "metadata": {},
   "source": [
    "#### 4.1 计算密集型并发"
   ]
  },
  {
   "cell_type": "code",
   "execution_count": null,
   "metadata": {},
   "outputs": [],
   "source": []
  }
 ],
 "metadata": {
  "kernelspec": {
   "display_name": "Python 3",
   "language": "python",
   "name": "python3"
  },
  "language_info": {
   "codemirror_mode": {
    "name": "ipython",
    "version": 3
   },
   "file_extension": ".py",
   "mimetype": "text/x-python",
   "name": "python",
   "nbconvert_exporter": "python",
   "pygments_lexer": "ipython3",
   "version": "3.6.6"
  }
 },
 "nbformat": 4,
 "nbformat_minor": 2
}
