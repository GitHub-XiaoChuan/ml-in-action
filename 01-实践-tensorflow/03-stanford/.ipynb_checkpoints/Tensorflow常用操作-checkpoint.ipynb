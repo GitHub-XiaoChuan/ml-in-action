{
 "cells": [
  {
   "cell_type": "code",
   "execution_count": 1,
   "metadata": {},
   "outputs": [],
   "source": [
    "import tensorflow as tf"
   ]
  },
  {
   "cell_type": "code",
   "execution_count": 22,
   "metadata": {},
   "outputs": [],
   "source": [
    "# 初始化两个变量\n",
    "a = tf.constant([3, 6])\n",
    "b = tf.constant([2, 2])\n",
    "c = tf.constant([-1, 2], dtype=tf.float32)"
   ]
  },
  {
   "cell_type": "code",
   "execution_count": 38,
   "metadata": {},
   "outputs": [
    {
     "name": "stdout",
     "output_type": "stream",
     "text": [
      "[5 8]\n",
      "[ 7 10]\n",
      "[1 4]\n",
      "[ 6 12]\n",
      "[1 3]\n",
      "[1 0]\n",
      "[1. 2.]\n",
      "[ 1. -2.]\n",
      "[-1.  1.]\n",
      "[ 9 36]\n",
      "[ 1.  2.  2. -1. -2. -2.]\n",
      "[1.7320508 2.4494898]\n",
      "[ 9 36]\n",
      "2.7182817\n",
      "0.0\n",
      "[3 6]\n",
      "[2 2]\n",
      "0.87758255\n",
      "0.47942555\n",
      "0.5463025\n",
      "0.4636476\n"
     ]
    }
   ],
   "source": [
    "# 元素级别的操作：\n",
    "\n",
    "# 两个张量的形状要一致\n",
    "add = tf.add(a, b)\n",
    "# 支持传入一个数组，对数组内的张量进行加法\n",
    "add_n = tf.add_n([a, b, b])\n",
    "# 以前的API都是sub，1.12版本是subtract\n",
    "sub = tf.subtract(a, b)\n",
    "# 以前的API都是mul，1.12版本是multiply\n",
    "mul = tf.multiply(a, b)\n",
    "# 除法，向下取整\n",
    "div = tf.div(a, b)\n",
    "# 取余\n",
    "mod = tf.mod(a, b)\n",
    "# 绝对值\n",
    "abs = tf.abs(c)\n",
    "# 取负\n",
    "neg = tf.negative(c)\n",
    "# 返回符号 y = sign(x) = -1 if x < 0; 0 if x == 0; 1 if x > 0.\n",
    "sign = tf.sign(c)\n",
    "# 计算平方 (y = x * x = x^2).\n",
    "square = tf.square(a)\n",
    "# 四舍五入\n",
    "round = tf.round(tf.constant([1.2,1.5,1.9,-1.2,-1.5,-1.9]))\n",
    "# 开根号\n",
    "sqrt = tf.sqrt(tf.constant([3, 6], dtype=tf.float32))\n",
    "# 次方\n",
    "pow = tf.pow(a, b)\n",
    "# 计算e的x次方，x必须是一个张量，且类型为bfloat16, half, float32, float64, complex64, complex128\n",
    "exp = tf.exp(tf.constant(1, dtype=tf.float32))\n",
    "# 计算Log(x)，类型要求跟exp一样\n",
    "log = tf.log(tf.constant(1, dtype=tf.float32))\n",
    "# 返回最大值 (x > y ? x : y)\n",
    "maximum = tf.maximum(a, b)\n",
    "# 返回最小值（x < y ? x : y）\n",
    "minimum = tf.minimum(a, b)\n",
    "# 三角函数\n",
    "cos = tf.cos(tf.constant(0.5, dtype=tf.float32))\n",
    "sin = tf.sin(tf.constant(0.5, dtype=tf.float32))\n",
    "tan = tf.tan(tf.constant(0.5, dtype=tf.float32))\n",
    "atan = tf.atan(tf.constant(0.5, dtype=tf.float32))\n",
    "\n",
    "with tf.Session() as  sess:\n",
    "    print(sess.run(add))\n",
    "    print(sess.run(add_n))\n",
    "    print(sess.run(sub))\n",
    "    print(sess.run(mul))\n",
    "    print(sess.run(div))\n",
    "    print(sess.run(mod))\n",
    "    print(sess.run(abs))\n",
    "    print(sess.run(neg))\n",
    "    print(sess.run(sign))\n",
    "    print(sess.run(square))\n",
    "    print(sess.run(round))\n",
    "    print(sess.run(sqrt))\n",
    "    print(sess.run(pow))\n",
    "    print(sess.run(exp))\n",
    "    print(sess.run(log))\n",
    "    print(sess.run(maximum))\n",
    "    print(sess.run(minimum))\n",
    "    print(sess.run(cos))\n",
    "    print(sess.run(sin))\n",
    "    print(sess.run(tan))\n",
    "    print(sess.run(atan))"
   ]
  },
  {
   "cell_type": "code",
   "execution_count": 42,
   "metadata": {},
   "outputs": [
    {
     "name": "stdout",
     "output_type": "stream",
     "text": [
      "[1. 2.]\n",
      "[1. 2.]\n",
      "[1. 2.]\n",
      "[1 2]\n",
      "[1 2]\n",
      "[1 2]\n"
     ]
    }
   ],
   "source": [
    "# 类型转换\n",
    "s2n = tf.string_to_number(tf.constant(['1.0', '2'], dtype=tf.string))\n",
    "tod = tf.to_double(s2n)\n",
    "tof = tf.to_float(s2n)\n",
    "toint32 = tf.to_int32(s2n)\n",
    "toint64 = tf.to_int64(s2n)\n",
    "cast = tf.cast(s2n, dtype=tf.int32)\n",
    "\n",
    "with tf.Session() as sess:\n",
    "    print(sess.run(s2n))\n",
    "    print(sess.run(tod))\n",
    "    print(sess.run(tof))\n",
    "    print(sess.run(toint32))\n",
    "    print(sess.run(toint64))\n",
    "    print(sess.run(cast))"
   ]
  },
  {
   "cell_type": "code",
   "execution_count": 51,
   "metadata": {},
   "outputs": [
    {
     "name": "stdout",
     "output_type": "stream",
     "text": [
      "[2 2 3]\n",
      "12\n",
      "3\n",
      "[[1 2 3]\n",
      " [4 5 6]\n",
      " [7 8 9]]\n",
      "[[1 2 3]\n",
      " [4 5 6]\n",
      " [7 8 9]]\n",
      "[[1 2 3 4 5 6 7 8 9]]\n",
      "[1 9]\n",
      "[[1]\n",
      " [2]\n",
      " [3]\n",
      " [4]\n",
      " [5]\n",
      " [6]\n",
      " [7]\n",
      " [8]\n",
      " [9]]\n",
      "[9 1]\n",
      "[[1]\n",
      " [2]\n",
      " [3]\n",
      " [4]\n",
      " [5]\n",
      " [6]\n",
      " [7]\n",
      " [8]\n",
      " [9]]\n",
      "[9 1]\n"
     ]
    }
   ],
   "source": [
    "# 形状\n",
    "s1 = tf.constant([[[1, 1, 1], [2, 2, 2]], [[3, 3, 3], [4, 4, 4]]])\n",
    "s2 = tf.constant([1, 2, 3, 4, 5, 6, 7, 8, 9])\n",
    "# 形状\n",
    "shape = tf.shape(s1)\n",
    "# 元素的个数\n",
    "size = tf.size(s1)\n",
    "# 维度数目\n",
    "rank = tf.rank(s1)\n",
    "# 改变形状\n",
    "reshape = tf.reshape(s2, [3, 3])\n",
    "# 自定推导\n",
    "reshape2 = tf.reshape(s2, [3, -1])\n",
    "# 升维\n",
    "ed1 = tf.expand_dims(s2, axis=0)\n",
    "ed2 = tf.expand_dims(s2, axis=1)\n",
    "ed3 = tf.expand_dims(s2, axis=-1)\n",
    "with tf.Session() as sess:\n",
    "    print(sess.run(shape))\n",
    "    print(sess.run(size))\n",
    "    print(sess.run(rank))\n",
    "    print(sess.run(reshape))\n",
    "    print(sess.run(reshape2))\n",
    "    print(sess.run(ed1))\n",
    "    print(sess.run(tf.shape(ed1)))\n",
    "    print(sess.run(ed2))\n",
    "    print(sess.run(tf.shape(ed2)))\n",
    "    print(sess.run(ed3))\n",
    "    print(sess.run(tf.shape(ed3)))\n"
   ]
  },
  {
   "cell_type": "code",
   "execution_count": 10,
   "metadata": {},
   "outputs": [
    {
     "name": "stdout",
     "output_type": "stream",
     "text": [
      "Tensor(\"Const_6:0\", shape=(), dtype=int32)\n",
      "Tensor(\"Const_7:0\", shape=(), dtype=string)\n",
      "1\n",
      "<class 'numpy.int32'>\n",
      "b'aaa'\n",
      "<class 'bytes'>\n"
     ]
    }
   ],
   "source": [
    "number1 = tf.constant(1)\n",
    "print(number1)\n",
    "string1 = tf.constant('aaa', dtype=tf.string)\n",
    "print(string1)\n",
    "with tf.Session() as sess:\n",
    "    print(sess.run(number1))\n",
    "    print(type(sess.run(number1)))\n",
    "    print(sess.run(string1))\n",
    "    print(type(sess.run(string1)))"
   ]
  },
  {
   "cell_type": "code",
   "execution_count": 14,
   "metadata": {},
   "outputs": [
    {
     "name": "stdout",
     "output_type": "stream",
     "text": [
      "[b'aa' b'bb']\n"
     ]
    }
   ],
   "source": [
    "import numpy as np\n",
    "npstrs = np.array(['aa', 'bb'], dtype=np.string_)\n",
    "string2 = tf.constant(npstrs)\n",
    "with tf.Session() as sess:\n",
    "    print(sess.run(string2))"
   ]
  },
  {
   "cell_type": "code",
   "execution_count": null,
   "metadata": {},
   "outputs": [],
   "source": []
  }
 ],
 "metadata": {
  "kernelspec": {
   "display_name": "Python 3",
   "language": "python",
   "name": "python3"
  },
  "language_info": {
   "codemirror_mode": {
    "name": "ipython",
    "version": 3
   },
   "file_extension": ".py",
   "mimetype": "text/x-python",
   "name": "python",
   "nbconvert_exporter": "python",
   "pygments_lexer": "ipython3",
   "version": "3.6.6"
  }
 },
 "nbformat": 4,
 "nbformat_minor": 2
}
