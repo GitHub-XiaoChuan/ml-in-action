{
 "cells": [
  {
   "cell_type": "markdown",
   "metadata": {},
   "source": [
    "> 芝加哥着火和失窃的数据对\n",
    "\n",
    "http://college.cengage.com/mathematics/brase/understandable_statistics/7e/students/datasets/slr/frames/slr05.html"
   ]
  },
  {
   "cell_type": "code",
   "execution_count": 5,
   "metadata": {},
   "outputs": [
    {
     "name": "stdout",
     "output_type": "stream",
     "text": [
      "43\n",
      "2\n"
     ]
    }
   ],
   "source": [
    "import numpy as np\n",
    "import matplotlib.pyplot as plt\n",
    "import tensorflow as tf\n",
    "import xlrd\n",
    "\n",
    "DATA_FILE = 'data/fire_theft.xls'\n",
    "\n",
    "book = xlrd.open_workbook(DATA_FILE, encoding_override=\"utf-8\")\n",
    "sheet = book.sheet_by_index(0)\n",
    "print(sheet.nrows)\n",
    "print(sheet.ncols)"
   ]
  },
  {
   "cell_type": "code",
   "execution_count": 10,
   "metadata": {},
   "outputs": [
    {
     "name": "stdout",
     "output_type": "stream",
     "text": [
      "42\n",
      "[[  6.2  29. ]\n",
      " [  9.5  44. ]\n",
      " [ 10.5  36. ]\n",
      " [  7.7  37. ]\n",
      " [  8.6  53. ]\n",
      " [ 34.1  68. ]\n",
      " [ 11.   75. ]\n",
      " [  6.9  18. ]\n",
      " [  7.3  31. ]\n",
      " [ 15.1  25. ]\n",
      " [ 29.1  34. ]\n",
      " [  2.2  14. ]\n",
      " [  5.7  11. ]\n",
      " [  2.   11. ]\n",
      " [  2.5  22. ]\n",
      " [  4.   16. ]\n",
      " [  5.4  27. ]\n",
      " [  2.2   9. ]\n",
      " [  7.2  29. ]\n",
      " [ 15.1  30. ]\n",
      " [ 16.5  40. ]\n",
      " [ 18.4  32. ]\n",
      " [ 36.2  41. ]\n",
      " [ 39.7 147. ]\n",
      " [ 18.5  22. ]\n",
      " [ 23.3  29. ]\n",
      " [ 12.2  46. ]\n",
      " [  5.6  23. ]\n",
      " [ 21.8   4. ]\n",
      " [ 21.6  31. ]\n",
      " [  9.   39. ]\n",
      " [  3.6  15. ]\n",
      " [  5.   32. ]\n",
      " [ 28.6  27. ]\n",
      " [ 17.4  32. ]\n",
      " [ 11.3  34. ]\n",
      " [  3.4  17. ]\n",
      " [ 11.9  46. ]\n",
      " [ 10.5  42. ]\n",
      " [ 10.7  43. ]\n",
      " [ 10.8  34. ]\n",
      " [  4.8  19. ]]\n"
     ]
    }
   ],
   "source": [
    "data = np.asarray([sheet.row_values(i) for i in range(1, sheet.nrows)])\n",
    "n_samples = sheet.nrows - 1\n",
    "\n",
    "print(n_samples)\n",
    "print(data)"
   ]
  },
  {
   "cell_type": "code",
   "execution_count": 11,
   "metadata": {},
   "outputs": [
    {
     "name": "stdout",
     "output_type": "stream",
     "text": [
      "1.7183813\n",
      "15.789157\n"
     ]
    }
   ],
   "source": [
    "# 创建模型\n",
    "X = tf.placeholder(tf.float32, name='X')\n",
    "Y = tf.placeholder(tf.float32, name='Y')\n",
    "\n",
    "W = tf.Variable(0.0, name='weights')\n",
    "b = tf.Variable(0.0, name='bias')\n",
    "\n",
    "Y_predict = X * W + b\n",
    "\n",
    "loss = tf.square(Y - Y_predict, name='loss')\n",
    "\n",
    "opt = tf.train.GradientDescentOptimizer(learning_rate=0.001).minimize(loss)\n",
    "\n",
    "with tf.Session() as sess:\n",
    "    sess.run(tf.global_variables_initializer())\n",
    "    \n",
    "    for i in range(100):\n",
    "        for x, y in data:\n",
    "            sess.run(opt, feed_dict = {X: x, Y: y})\n",
    "    \n",
    "    w_value, b_value = sess.run([W, b])\n",
    "    print(w_value)\n",
    "    print(b_value)"
   ]
  },
  {
   "cell_type": "code",
   "execution_count": 17,
   "metadata": {},
   "outputs": [
    {
     "data": {
      "image/png": "[encoded data removed]",
      "text/plain": [
       "<Figure size 432x288 with 1 Axes>"
      ]
     },
     "metadata": {},
     "output_type": "display_data"
    }
   ],
   "source": [
    "plt_x = data[:, 0]\n",
    "plt_y = data[:, 1]\n",
    "\n",
    "plt.scatter(plt_x, plt_y)\n",
    "\n",
    "px = np.arange(0, 50)\n",
    "py = px*1.7183813 + 15.789157\n",
    "plt.plot(px, py, c='r')\n",
    "\n",
    "plt.show()"
   ]
  },
  {
   "cell_type": "code",
   "execution_count": 35,
   "metadata": {},
   "outputs": [
    {
     "name": "stdout",
     "output_type": "stream",
     "text": [
      "1.2622225594355019e+269\n",
      "2.033103150807566e+269\n",
      "5.874135787267425e+268\n"
     ]
    }
   ],
   "source": [
    "# 创建模型\n",
    "X = tf.placeholder(tf.float64, name='X')\n",
    "Y = tf.placeholder(tf.float64, name='Y')\n",
    "\n",
    "w = tf.Variable(0.0, dtype=tf.float64, name='weights_1')\n",
    "u = tf.Variable(0.0, dtype=tf.float64, name='weights_2')\n",
    "b = tf.Variable(0.0, dtype=tf.float64, name='bias')\n",
    "\n",
    "Y_predict = X * X * w + X * u + b\n",
    "\n",
    "loss = tf.square(Y - Y_predict, name='loss')\n",
    "\n",
    "opt2 = tf.train.GradientDescentOptimizer(learning_rate=0.001).minimize(loss)\n",
    "\n",
    "with tf.Session() as sess:\n",
    "    sess.run(tf.global_variables_initializer())\n",
    "    \n",
    "    for i in range(5):\n",
    "        for x, y in data:\n",
    "            sess.run(opt2, feed_dict = {X: x, Y: y})\n",
    "    \n",
    "    w_value, u_value, b_value = sess.run([w, u, b])\n",
    "    print(w_value)\n",
    "    print(u_value)\n",
    "    print(b_value)"
   ]
  },
  {
   "cell_type": "code",
   "execution_count": null,
   "metadata": {},
   "outputs": [],
   "source": []
  }
 ],
 "metadata": {
  "kernelspec": {
   "display_name": "Python 3",
   "language": "python",
   "name": "python3"
  },
  "language_info": {
   "codemirror_mode": {
    "name": "ipython",
    "version": 3
   },
   "file_extension": ".py",
   "mimetype": "text/x-python",
   "name": "python",
   "nbconvert_exporter": "python",
   "pygments_lexer": "ipython3",
   "version": "3.6.6"
  }
 },
 "nbformat": 4,
 "nbformat_minor": 2
}
